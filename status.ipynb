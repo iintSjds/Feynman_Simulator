{
 "cells": [
  {
   "cell_type": "code",
   "execution_count": null,
   "metadata": {
    "collapsed": false,
    "scrolled": true
   },
   "outputs": [],
   "source": [
    "%matplotlib inline\n",
    "import matplotlib as mpl\n",
    "mpl.rcParams['savefig.dpi'] = 100 \n",
    "#mpl.rcParams['figure.figsize'] = 10,8\n",
    "from dyson.logger import *\n",
    "import numpy as np\n",
    "import dyson.calculator as calc\n",
    "import dyson.weight as weight\n",
    "import dyson.model as model\n",
    "import dyson.lattice as lat\n",
    "from dyson.weight import UP,DOWN,IN,OUT\n",
    "import dyson.parameter as parameter\n",
    "import dyson.plot as plot\n",
    "ParaFile=\"0_DYSON_para\"\n",
    "WeightFile=\"Weight\"\n",
    "para=parameter.LoadPara(ParaFile)\n",
    "WeightPara={\"NSublat\": para[\"Lattice\"][\"NSublat\"], \"L\":para[\"Lattice\"][\"L\"],\n",
    "                \"Beta\": float(para[\"Tau\"][\"Beta\"]), \"MaxTauBin\": para[\"Tau\"][\"MaxTauBin\"]}\n",
    "Map=weight.IndexMap(**WeightPara)\n",
    "Lat=lat.Lattice(para[\"Lattice\"][\"Name\"], Map)\n",
    "data=IO.LoadBigDict(WeightFile)\n",
    "Factory=model.BareFactory(Map, Lat,  para[\"Model\"], para[\"Dyson\"][\"Annealing\"])\n",
    "G0,W0=Factory.Build()\n",
    "G=weight.Weight(\"SmoothT\", Map, \"TwoSpins\", \"AntiSymmetric\", \"R\", \"T\").FromDict(data[\"G\"])\n",
    "W=weight.Weight(\"SmoothT\", Map, \"FourSpins\", \"Symmetric\",\"R\",\"T\").FromDict(data[\"W\"])\n",
    "SigmaDeltaT=weight.Weight(\"DeltaT\", Map, \"TwoSpins\", \"AntiSymmetric\",\"R\").FromDict(data[\"SigmaDeltaT\"])\n",
    "Sigma=weight.Weight(\"SmoothT\", Map, \"TwoSpins\", \"AntiSymmetric\",\"R\",\"T\").FromDict(data[\"Sigma\"])\n",
    "Polar=weight.Weight(\"SmoothT\", Map, \"FourSpins\", \"Symmetric\",\"R\",\"T\").FromDict(data[\"Polar\"])\n",
    "Chi=weight.Weight(\"SmoothT\", Map, \"NoSpin\", \"Symmetric\",\"R\",\"T\").FromDict(data[\"Chi\"])"
   ]
  },
  {
   "cell_type": "code",
   "execution_count": null,
   "metadata": {
    "collapsed": false,
    "scrolled": false
   },
   "outputs": [],
   "source": [
    "plot.PlotChiAlongPath(Chi, Lat, False)"
   ]
  },
  {
   "cell_type": "code",
   "execution_count": null,
   "metadata": {
    "collapsed": false,
    "scrolled": false
   },
   "outputs": [],
   "source": [
    "plot.PlotSpatial(Chi, Lat, 0, 0, False)"
   ]
  },
  {
   "cell_type": "code",
   "execution_count": null,
   "metadata": {
    "collapsed": false,
    "scrolled": true
   },
   "outputs": [],
   "source": [
    "plot.PlotChi_2D(Chi, Lat, False)"
   ]
  },
  {
   "cell_type": "code",
   "execution_count": null,
   "metadata": {
    "collapsed": false,
    "scrolled": true
   },
   "outputs": [],
   "source": [
    "plot.PlotWeightvsR(\"\\chi\", Chi,Lat,0,0,0, False)"
   ]
  },
  {
   "cell_type": "code",
   "execution_count": null,
   "metadata": {
    "collapsed": false,
    "scrolled": true
   },
   "outputs": [],
   "source": [
    "plot.PlotTime(\"G\", G, UP, 0, UP, 0, 0, False)"
   ]
  },
  {
   "cell_type": "code",
   "execution_count": null,
   "metadata": {
    "collapsed": false
   },
   "outputs": [],
   "source": [
    "import dyson.collect as collect\n",
    "Statis=collect.CollectStatis(Map)\n",
    "ParaDyson=para[\"Dyson\"]\n",
    "Sigma, Polar, ParaDyson[\"OrderAccepted\"]=collect.UpdateWeight(Statis,ParaDyson[\"ErrorThreshold\"], ParaDyson[\"OrderAccepted\"], False)\n"
   ]
  },
  {
   "cell_type": "code",
   "execution_count": null,
   "metadata": {
    "collapsed": true
   },
   "outputs": [],
   "source": []
  }
 ],
 "metadata": {
  "kernelspec": {
   "display_name": "Python 2",
   "language": "python",
   "name": "python2"
  },
  "language_info": {
   "codemirror_mode": {
    "name": "ipython",
    "version": 2
   },
   "file_extension": ".py",
   "mimetype": "text/x-python",
   "name": "python",
   "nbconvert_exporter": "python",
   "pygments_lexer": "ipython2",
   "version": "2.7.9"
  }
 },
 "nbformat": 4,
 "nbformat_minor": 0
}
